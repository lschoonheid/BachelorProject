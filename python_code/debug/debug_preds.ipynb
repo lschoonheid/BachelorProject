{
 "cells": [
  {
   "cell_type": "code",
   "execution_count": 233,
   "metadata": {},
   "outputs": [],
   "source": [
    "import numpy as np\n",
    "import numpy.typing as npt\n",
    "from data_exploration.helpers import find_file, save\n",
    "from tqdm import tqdm\n",
    "import pandas as pd\n",
    "import matplotlib.pyplot as plt\n",
    "import keras\n",
    "\n",
    "import os\n",
    "os.environ['TF_GPU_ALLOCATOR'] = 'cuda_malloc_async'\n",
    "import trackml_copy as outrunner_code\n",
    "import trackml_2_solution_example as my_code"
   ]
  },
  {
   "cell_type": "code",
   "execution_count": 234,
   "metadata": {},
   "outputs": [],
   "source": [
    "DO_EXPORT = True\n",
    "DIRECTORY = my_code.DIRECTORY\n",
    "SOLUTION_DIR = my_code.SOLUTION_DIR\n",
    "\n",
    "\n",
    "DATA_ROOT = \"/data/atlas/users/lschoonh/BachelorProject/data/\"\n",
    "DATA_SAMPLE = DATA_ROOT + \"train_100_events/\"\n",
    "MODELS_ROOT = DIRECTORY + \"trained_models/2nd_place/\"\n",
    "\n",
    "event_name: str = \"event000001001\"\n",
    "hits, cells, truth, particles = outrunner_code.get_event(event_name)\n",
    "preload = True\n",
    "PATH_THR = 0.85"
   ]
  },
  {
   "cell_type": "code",
   "execution_count": null,
   "metadata": {},
   "outputs": [],
   "source": [
    "my_preds: list[npt.NDArray] = find_file(f\"preds_{event_name}\", dir=DIRECTORY)  # type: ignore\n",
    "outrunner_preds = np.load(SOLUTION_DIR + \"my_%s.npy\" % event_name, allow_pickle=True)\n",
    "outrunner_preds_regenerated = find_file(f\"try_from_notebook\", dir=DIRECTORY)  # type: ignore\n",
    "module_id = my_code.get_module_id(hits)"
   ]
  },
  {
   "cell_type": "code",
   "execution_count": null,
   "metadata": {},
   "outputs": [],
   "source": [
    "def verify_matrices(test_matrix: npt.NDArray | list[npt.NDArray], verification_matrix: npt.NDArray | list[npt.NDArray], limit: int | None = None, error: float = 0):\n",
    "    for i, (test_row, verification_row) in tqdm(enumerate(zip(test_matrix, verification_matrix)), total=min(len(test_matrix), len(verification_matrix))):\n",
    "        if limit is not None and i >= limit:\n",
    "            break\n",
    "\n",
    "        # test_row == np.array(verification_row)\n",
    "        tracks_equal = np.all(test_row == np.array(verification_row))\n",
    "        if not tracks_equal:\n",
    "            print(\"Rows are not equal\")\n",
    "            print(\"test row\", test_row)\n",
    "            print(\"good row\", verification_row)\n",
    "            print(\"Instances not in agreement: \", np.where(test_row!= verification_row)[0])\n",
    "            raise ValueError(\"Rows are not equal\")\n",
    "    print(f\"All first {i+1} rows are equal\")\n",
    "    return True"
   ]
  },
  {
   "cell_type": "markdown",
   "metadata": {},
   "source": [
    "Generate features"
   ]
  },
  {
   "cell_type": "code",
   "execution_count": null,
   "metadata": {},
   "outputs": [],
   "source": [
    "hits, cells, truth, particles = outrunner_code.get_event(event_name)\n",
    "hit_cells = cells.groupby(['hit_id']).value.count().values\n",
    "hit_value = cells.groupby(['hit_id']).value.sum().values\n",
    "hit_value = cells.groupby(['hit_id']).value.sum().values\n",
    "outrunner_features = np.hstack((hits[['x','y','z']]/1000, hit_cells.reshape(len(hit_cells),1)/10,hit_value.reshape(len(hit_cells),1)))"
   ]
  },
  {
   "cell_type": "code",
   "execution_count": null,
   "metadata": {},
   "outputs": [],
   "source": [
    "outrunner_model = my_code.load_model(SOLUTION_DIR + \"my_model.h5\")\n",
    "outrunner_model_h = my_code.load_model(SOLUTION_DIR + \"my_model_h.h5\")"
   ]
  },
  {
   "cell_type": "markdown",
   "metadata": {},
   "source": [
    "# Generate a few predicts"
   ]
  },
  {
   "cell_type": "code",
   "execution_count": null,
   "metadata": {},
   "outputs": [],
   "source": [
    "used_features: pd.DataFrame = outrunner_features # type: ignore\n",
    "used_model: keras.models.Model = outrunner_model_h # type: ignore\n",
    "pred_matrix_limit: int = 10\n",
    "hit_id_test = 3\n",
    "hit_index_test = hit_id_test - 1"
   ]
  },
  {
   "cell_type": "code",
   "execution_count": null,
   "metadata": {},
   "outputs": [],
   "source": [
    "TestX = np.zeros((len(used_features), 10))\n",
    "TestX[:,5:] = used_features\n",
    "\n",
    "# for TTA\n",
    "TestX1 = np.zeros((len(used_features), 10))\n",
    "TestX1[:,:5] = used_features\n",
    "\n",
    "preds_new = []\n",
    "\n",
    "for i in tqdm(range(pred_matrix_limit)):\n",
    "    TestX[i+1:,:5] = np.tile(used_features[i], (len(TestX)-i-1, 1))\n",
    "\n",
    "    pred = used_model.predict(TestX[i+1:], batch_size=20000,verbose=\"0\")[:,0]                \n",
    "    idx = np.where(pred>0.2)[0]\n",
    "\n",
    "    if len(idx) > 0:\n",
    "        TestX1[idx+i+1,5:] = TestX[idx+i+1,:5]\n",
    "        pred1 = used_model.predict(TestX1[idx+i+1], batch_size=20000,verbose=\"0\")[:,0]\n",
    "        pred[idx] = (pred[idx]+pred1)/2\n",
    "\n",
    "    idx = np.where(pred>0.5)[0]\n",
    "\n",
    "    preds_new.append([idx+i+1, pred[idx]])\n",
    "\n",
    "    #if i==0: print(preds_new[-1])\n",
    "\n",
    "preds_new.append([np.array([], dtype='int64'), np.array([], dtype='float32')])"
   ]
  },
  {
   "cell_type": "code",
   "execution_count": null,
   "metadata": {},
   "outputs": [],
   "source": [
    "# rebuild to NxN\n",
    "for i in range(len(preds_new)):\n",
    "    ii = len(preds_new)-i-1\n",
    "    for j in range(len(preds_new[ii][0])):\n",
    "        jj = preds_new[ii][0][j]\n",
    "        if jj < pred_matrix_limit:\n",
    "            preds_new[jj][0] = np.insert(preds_new[jj][0], 0 ,ii)\n",
    "            preds_new[jj][1] = np.insert(preds_new[jj][1], 0 ,preds_new[ii][1][j])\n",
    "    "
   ]
  },
  {
   "cell_type": "markdown",
   "metadata": {},
   "source": [
    "## Compare my_preds with new outrunner preds"
   ]
  },
  {
   "cell_type": "code",
   "execution_count": null,
   "metadata": {},
   "outputs": [],
   "source": [
    "outrunner_preds_pre_df =pd.DataFrame([outrunner_preds[hit_index_test][0],outrunner_preds[hit_index_test][1]]).T.set_index(0).rename(columns={1:\"out_pre\"})\n",
    "outrunner_preds_pre_df"
   ]
  },
  {
   "cell_type": "code",
   "execution_count": null,
   "metadata": {},
   "outputs": [],
   "source": [
    "outrunner_preds_new_df = pd.DataFrame(outrunner_preds_regenerated[hit_index_test]).T.set_index(0).rename(columns={1:\"out_preds_new\"})\n",
    "outrunner_preds_new_df"
   ]
  },
  {
   "cell_type": "code",
   "execution_count": null,
   "metadata": {},
   "outputs": [],
   "source": [
    "my_preds_df = pd.DataFrame(my_preds[hit_index_test]).T.set_index(0).rename(columns={1:\"my_preds\"})\n",
    "my_preds_df"
   ]
  },
  {
   "cell_type": "code",
   "execution_count": null,
   "metadata": {},
   "outputs": [],
   "source": [
    "preds_new_df = pd.DataFrame(preds_new[hit_index_test]).T.set_index(0).rename(columns={1:\"preds_new\"})\n",
    "preds_new_df"
   ]
  },
  {
   "cell_type": "code",
   "execution_count": null,
   "metadata": {},
   "outputs": [],
   "source": [
    "one_row = my_code.make_predict(used_model, used_features, hits, hit_id_test)\n",
    "one_row_indcices = np.arange(len(one_row))\n",
    "one_df = pd.DataFrame([one_row_indcices,one_row]).T.set_index(0).rename(columns={1:\"make_predict\"})\n",
    "one_df"
   ]
  },
  {
   "cell_type": "code",
   "execution_count": null,
   "metadata": {},
   "outputs": [],
   "source": [
    "verify_matrices(my_preds[0][0], outrunner_preds_regenerated[0][0])\n",
    "verify_matrices(my_preds[0][1][2:], outrunner_preds_regenerated[0][1][2:])"
   ]
  },
  {
   "cell_type": "code",
   "execution_count": null,
   "metadata": {},
   "outputs": [],
   "source": [
    "combined_df = pd.concat([ outrunner_preds_new_df, my_preds_df, preds_new_df, one_df, outrunner_preds_pre_df], axis=1)\n",
    "combined_df.head(50)"
   ]
  },
  {
   "cell_type": "code",
   "execution_count": null,
   "metadata": {},
   "outputs": [],
   "source": [
    "outrunner_preds[0][1].min()"
   ]
  },
  {
   "cell_type": "code",
   "execution_count": null,
   "metadata": {},
   "outputs": [],
   "source": [
    "combined_df_small = pd.concat([outrunner_preds_pre_df, outrunner_preds_new_df, my_preds_df, preds_new_df, one_df ], axis=1)\n",
    "combined_df_small.head(50)"
   ]
  },
  {
   "cell_type": "code",
   "execution_count": null,
   "metadata": {},
   "outputs": [],
   "source": [
    "preds_new"
   ]
  },
  {
   "cell_type": "code",
   "execution_count": null,
   "metadata": {},
   "outputs": [],
   "source": [
    "# for i in range(pred_matrix_limit):\n",
    "#     verify_matrices(preds_new[i][0], outrunner_preds[i][0], error = 0.0001)\n",
    "i = 5\n",
    "verify_matrices(preds_new[i][0], outrunner_preds[i][0], error = 0.0001)"
   ]
  },
  {
   "cell_type": "code",
   "execution_count": null,
   "metadata": {},
   "outputs": [],
   "source": [
    "preds_new[i][0]"
   ]
  },
  {
   "cell_type": "code",
   "execution_count": null,
   "metadata": {},
   "outputs": [],
   "source": [
    "outrunner_preds[i][0]\n"
   ]
  },
  {
   "cell_type": "code",
   "execution_count": null,
   "metadata": {},
   "outputs": [],
   "source": []
  }
 ],
 "metadata": {
  "kernelspec": {
   "display_name": "myrootenv",
   "language": "python",
   "name": "python3"
  },
  "language_info": {
   "codemirror_mode": {
    "name": "ipython",
    "version": 3
   },
   "file_extension": ".py",
   "mimetype": "text/x-python",
   "name": "python",
   "nbconvert_exporter": "python",
   "pygments_lexer": "ipython3",
   "version": "3.10.11"
  },
  "orig_nbformat": 4
 },
 "nbformat": 4,
 "nbformat_minor": 2
}
