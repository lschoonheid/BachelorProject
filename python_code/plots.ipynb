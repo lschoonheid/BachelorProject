{
 "cells": [
  {
   "cell_type": "code",
   "execution_count": null,
   "metadata": {},
   "outputs": [],
   "source": [
    "from efficiency import *\n",
    "from data_exploration.visualize import *\n",
    "from dirs import OUTPUT_DIR, PLOT_PATH"
   ]
  },
  {
   "cell_type": "code",
   "execution_count": null,
   "metadata": {},
   "outputs": [],
   "source": [
    "dir_unreduced_unfit = '/data/atlas/users/lschoonh/BachelorProject/output/outrunner_model/'\n",
    "dir_unreduced_fit = '/data/atlas/users/lschoonh/BachelorProject/output/unreduced_fit/'\n",
    "dir_reduced_unfit = '/data/atlas/users/lschoonh/BachelorProject/output/reduced/random/unfit/'\n",
    "dir_reduced_fit = '/data/atlas/users/lschoonh/BachelorProject/output/reduced/random/fit/'\n",
    "\n",
    "output_dir = PLOT_PATH\n",
    "\n",
    "dirs = [dir_unreduced_unfit, dir_unreduced_fit, dir_reduced_unfit, dir_reduced_fit]\n",
    "tags = ['HL DNN', 'HL DNN + fit', 'Red. DNN', 'Red. DNN + fit']"
   ]
  },
  {
   "cell_type": "code",
   "execution_count": null,
   "metadata": {},
   "outputs": [],
   "source": [
    "logger = get_logger(tag=\"notebook_plots\")"
   ]
  },
  {
   "cell_type": "code",
   "execution_count": null,
   "metadata": {},
   "outputs": [],
   "source": [
    "dir = dirs[0]\n",
    "all_considered_particles_extended, all_considered_pairs_extended, n_events = extract(\n",
    "        dir=dir, event_name=None\n",
    "    )"
   ]
  },
  {
   "cell_type": "code",
   "execution_count": null,
   "metadata": {},
   "outputs": [],
   "source": [
    "tags[:2]"
   ]
  },
  {
   "cell_type": "code",
   "execution_count": null,
   "metadata": {},
   "outputs": [],
   "source": [
    "comparison_datasets = [extract(\n",
    "        dir=dir, event_name=None\n",
    "    ) for dir in dirs]"
   ]
  },
  {
   "cell_type": "code",
   "execution_count": 40,
   "metadata": {},
   "outputs": [
    {
     "data": {
      "text/plain": [
       "[22, 19, 364, 378]"
      ]
     },
     "execution_count": 40,
     "metadata": {},
     "output_type": "execute_result"
    }
   ],
   "source": [
    "all_considered_particles_extended_arr, all_considered_pairs_extended_arr, n_events_arr = [], [], []\n",
    "for data in comparison_datasets:\n",
    "    all_considered_particles_extended, all_considered_pairs_extended, n_events = data\n",
    "    all_considered_particles_extended_arr.append(all_considered_particles_extended)\n",
    "    all_considered_pairs_extended_arr.append(all_considered_pairs_extended)\n",
    "    n_events_arr.append(n_events)\n",
    "n_events_arr"
   ]
  },
  {
   "cell_type": "code",
   "execution_count": null,
   "metadata": {},
   "outputs": [],
   "source": [
    "if False:\n",
    "    evaluate_submission(\n",
    "        all_considered_particles_extended_arr,\n",
    "        all_considered_pairs_extended_arr,\n",
    "        n_events_arr,\n",
    "        tags_arr=tags[:2],\n",
    "        dir=output_dir,\n",
    "        bins=100,\n",
    "    )"
   ]
  },
  {
   "cell_type": "code",
   "execution_count": 41,
   "metadata": {},
   "outputs": [],
   "source": [
    "output_dir = ''\n",
    "particles = all_considered_particles_extended\n",
    "pairs = all_considered_pairs_extended\n",
    "tag=f\"{n_events}_events\",\n",
    "thr=0.5\n",
    "bins = 100"
   ]
  },
  {
   "cell_type": "markdown",
   "metadata": {},
   "source": [
    "Setup margins"
   ]
  },
  {
   "cell_type": "code",
   "execution_count": null,
   "metadata": {},
   "outputs": [],
   "source": [
    "# prepare_path(dir)\n",
    "\n",
    "tag_str = f\"_{tag}\" if tag else \"\"\n",
    "\n",
    "# Define types of matches\n",
    "good = pairs[(pairs[\"particle_purity\"] >= thr) & (pairs[\"track_purity\"] >= thr)]\n",
    "split = pairs[(pairs[\"particle_purity\"] < thr) & (pairs[\"track_purity\"] >= thr)]\n",
    "multiple = pairs[(pairs[\"particle_purity\"] >= thr) & (pairs[\"track_purity\"] < thr)]\n",
    "bad = pairs[(pairs[\"particle_purity\"] < thr) & (pairs[\"track_purity\"] < thr)]\n",
    "\n",
    "match_types: list[pd.DataFrame] = [good, split, multiple, bad]\n",
    "match_types_str: list[str] = [\"good\", \"split\", \"multiple\", \"bad\"]\n",
    "\n",
    "variables_str = [\"r_0\", \"z_0\", \"p_0\", \"p_t_0\", \"log_10_p_t_0\", \"phi_0\", \"theta_0\", \"pseudo_rapidity_0\"]\n",
    "var_labels = [\n",
    "    \"vertex $r_0$ [mm]\",\n",
    "    \"vertex $z_0$ [mm]\",\n",
    "    \"$p$\",\n",
    "    \"$P_{T}$\",\n",
    "    \"$log_{10}$ $p_{T}$\",\n",
    "    \"$\\\\phi$\",\n",
    "    \"$\\\\theta$\",\n",
    "    \"$\\\\eta$\",\n",
    "]\n",
    "\n",
    "x_mins = [0, -15, 0, 0, None, -np.pi, 0, -np.pi]\n",
    "x_maxs = [600, 15, 25, 5, 2, np.pi, np.pi, np.pi]\n",
    "\n",
    "# For efficiencies only\n",
    "y_mins = [None, 0.6, 0.6, 0.6, 0.6, 0.6, 0.6, 0.6]\n",
    "y_maxs = [1, 1, 1, 1, 1, 1, 1, 1]"
   ]
  },
  {
   "cell_type": "code",
   "execution_count": null,
   "metadata": {},
   "outputs": [],
   "source": [
    "if False:\n",
    "    matches = match_types[0]\n",
    "    nmatch_type_str = match_types_str[0]\n",
    "    variable = variables_str[2]\n",
    "    label = var_labels[2]\n",
    "    x_min = x_mins[2]\n",
    "    x_max = x_maxs[2]\n",
    "\n",
    "    fig = plot_efficiency(\n",
    "        particles,\n",
    "        matches,\n",
    "        variable=variable,\n",
    "        bins=bins,\n",
    "        x_min=x_min,\n",
    "        x_max=x_max,\n",
    "        xlabel=label,\n",
    "    )"
   ]
  },
  {
   "cell_type": "code",
   "execution_count": null,
   "metadata": {},
   "outputs": [],
   "source": [
    "if False:    \n",
    "    matches = match_types[0]\n",
    "    nmatch_type_str = match_types_str[0]\n",
    "    variable = variables_str[2]\n",
    "    label = var_labels[2]\n",
    "    x_min = x_mins[2]\n",
    "    x_max = x_maxs[2]\n",
    "\n",
    "    fig2 = plot_efficiency(\n",
    "        particles,\n",
    "        matches,\n",
    "        variable=variable,\n",
    "        bins=bins,\n",
    "        x_min=x_min,\n",
    "        x_max=x_max,\n",
    "        xlabel=label,\n",
    "        base=fig\n",
    "    )\n",
    "\n",
    "    fig2"
   ]
  },
  {
   "cell_type": "code",
   "execution_count": 42,
   "metadata": {},
   "outputs": [],
   "source": [
    "fig = None\n",
    "output_dir = ''\n",
    "thr=0.5\n",
    "bins = 100\n",
    "\n",
    "match_types_str: list[str] = [\"good\", \"split\", \"multiple\", \"bad\"]\n",
    "\n",
    "variables_str = [\"r_0\", \"z_0\", \"p_0\", \"p_t_0\", \"log_10_p_t_0\", \"phi_0\", \"theta_0\", \"pseudo_rapidity_0\"]\n",
    "var_labels = [\n",
    "    \"vertex $r_0$ [mm]\",\n",
    "    \"vertex $z_0$ [mm]\",\n",
    "    \"$p$\",\n",
    "    \"$P_{T}$\",\n",
    "    \"$log_{10}$ $p_{T}$\",\n",
    "    \"$\\\\phi$\",\n",
    "    \"$\\\\theta$\",\n",
    "    \"$\\\\eta$\",\n",
    "]\n",
    "\n",
    "x_mins = [0, -15, 0, 0, None, -np.pi, 0, -np.pi]\n",
    "x_maxs = [600, 15, 25, 5, 2, np.pi, np.pi, np.pi]\n",
    "\n",
    "# For efficiencies only\n",
    "y_mins = [0, 0.6, 0.6, 0.6, 0.6, 0.6, 0.6, 0.6]\n",
    "y_maxs = [1, 1, 1, 1, 1, 1, 1, 1]"
   ]
  },
  {
   "cell_type": "code",
   "execution_count": null,
   "metadata": {},
   "outputs": [],
   "source": [
    "output_figs = []\n",
    "\n",
    "for i, match_type_str in enumerate(match_types_str):\n",
    "    for variable, label, x_min, x_max in zip(variables_str, var_labels, x_mins, x_maxs):\n",
    "        fig = None\n",
    "        for data, comparison_tag in zip(comparison_datasets, tags):\n",
    "            all_considered_particles_extended, all_considered_pairs_extended, n_events = data\n",
    "            \n",
    "            particles = all_considered_particles_extended\n",
    "            pairs = all_considered_pairs_extended\n",
    "            tag=f\"{n_events}_events\",\n",
    "            \n",
    "            # prepare_path(dir)\n",
    "\n",
    "            tag_str = f\"_{tag}\" if tag else \"\"\n",
    "            datalabel = f\"{match_type_str} efficiency ({comparison_tag})\"\n",
    "\n",
    "            # Define types of matches\n",
    "            good = pairs[(pairs[\"particle_purity\"] >= thr) & (pairs[\"track_purity\"] >= thr)]\n",
    "            split = pairs[(pairs[\"particle_purity\"] < thr) & (pairs[\"track_purity\"] >= thr)]\n",
    "            multiple = pairs[(pairs[\"particle_purity\"] >= thr) & (pairs[\"track_purity\"] < thr)]\n",
    "            bad = pairs[(pairs[\"particle_purity\"] < thr) & (pairs[\"track_purity\"] < thr)]\n",
    "\n",
    "            match_types: list[pd.DataFrame] = [good, split, multiple, bad]\n",
    "            matches = match_types[i]\n",
    "\n",
    "            fig = plot_efficiency(\n",
    "                particles,\n",
    "                matches,\n",
    "                variable=variable,\n",
    "                bins=bins,\n",
    "                x_min=x_min,\n",
    "                x_max=x_max,\n",
    "                xlabel=label,\n",
    "                datalabel=datalabel,\n",
    "                base=fig\n",
    "            )\n",
    "        output_figs.append(fig)"
   ]
  },
  {
   "cell_type": "code",
   "execution_count": null,
   "metadata": {},
   "outputs": [],
   "source": [
    "len(output_figs)"
   ]
  },
  {
   "cell_type": "code",
   "execution_count": null,
   "metadata": {},
   "outputs": [],
   "source": [
    "fig = None\n",
    "for data, comparison_tag in zip(comparison_datasets, tags):\n",
    "    all_considered_particles_extended, all_considered_pairs_extended, n_events = data\n",
    "    \n",
    "    particles = all_considered_particles_extended\n",
    "    pairs = all_considered_pairs_extended\n",
    "    tag=f\"{n_events}_events\",\n",
    "    \n",
    "    # prepare_path(dir)\n",
    "\n",
    "    tag_str = f\"_{tag}\" if tag else \"\"\n",
    "\n",
    "\n",
    "    # Define types of matches\n",
    "    good = pairs[(pairs[\"particle_purity\"] >= thr) & (pairs[\"track_purity\"] >= thr)]\n",
    "    split = pairs[(pairs[\"particle_purity\"] < thr) & (pairs[\"track_purity\"] >= thr)]\n",
    "    multiple = pairs[(pairs[\"particle_purity\"] >= thr) & (pairs[\"track_purity\"] < thr)]\n",
    "    bad = pairs[(pairs[\"particle_purity\"] < thr) & (pairs[\"track_purity\"] < thr)]\n",
    "\n",
    "    match_types: list[pd.DataFrame] = [good, split, multiple, bad]\n",
    "    \n",
    "    matches = match_types[0]\n",
    "    match_type_str = match_types_str[0]\n",
    "    variable = variables_str[2]\n",
    "    label = var_labels[2]\n",
    "    x_min = x_mins[2]\n",
    "    x_max = x_maxs[2]\n",
    "    datalabel = f\"{match_type_str} efficiency $\\Delta$ ({comparison_tag})\"\n",
    "\n",
    "\n",
    "    fig = plot_efficiency(\n",
    "        particles,\n",
    "        matches,\n",
    "        variable=variable,\n",
    "        bins=bins,\n",
    "        x_min=x_min,\n",
    "        x_max=x_max,\n",
    "        xlabel=label,\n",
    "        datalabel=datalabel,\n",
    "        base=fig\n",
    "    )"
   ]
  },
  {
   "cell_type": "code",
   "execution_count": 43,
   "metadata": {},
   "outputs": [],
   "source": [
    "good_arr = []\n",
    "split_arr = []\n",
    "multiple_arr = []\n",
    "bad_arr = []\n",
    "for particles, pairs in zip(all_considered_particles_extended_arr, all_considered_pairs_extended_arr):\n",
    "    good_arr.append(pairs[(pairs[\"particle_purity\"] >= thr) & (pairs[\"track_purity\"] >= thr)])\n",
    "    split_arr.append(pairs[(pairs[\"particle_purity\"] < thr) & (pairs[\"track_purity\"] >= thr)])\n",
    "    multiple_arr.append(pairs[(pairs[\"particle_purity\"] >= thr) & (pairs[\"track_purity\"] < thr)])\n",
    "    bad_arr.append(pairs[(pairs[\"particle_purity\"] < thr) & (pairs[\"track_purity\"] < thr)])\n",
    "\n",
    "match_types_arrs: list[list[pd.DataFrame]] = [good_arr, split_arr, multiple_arr, bad_arr]"
   ]
  },
  {
   "cell_type": "code",
   "execution_count": null,
   "metadata": {},
   "outputs": [],
   "source": [
    "len(good_arr)"
   ]
  },
  {
   "cell_type": "code",
   "execution_count": null,
   "metadata": {},
   "outputs": [],
   "source": [
    "from collections import OrderedDict\n",
    "\n",
    "\n",
    "def fraction_histogram(\n",
    "    data: list[DataFrame],\n",
    "    variable: str,\n",
    "    bins=100,\n",
    "    min: float | None = None,  # type: ignore\n",
    "    max: float | None = None,  # type: ignore\n",
    "    density=False,\n",
    "    labels: list[str] | None = None,\n",
    "    title=\"\",\n",
    "    xlabel=\"x\",\n",
    "    ylabel=\"y\",\n",
    "    figsize=(10, 6),\n",
    "    type=\"fill\",\n",
    "    bar_pos=None,\n",
    "    colors = None,\n",
    "    base: Figure | None = None,\n",
    "    **kwargs,\n",
    "):\n",
    "    # Find labels\n",
    "    if labels is not None:\n",
    "        assert len(labels) == len(data), \"Number of labels must match number of dataframes\"\n",
    "    else:\n",
    "        labels = [f\"df_{i}\" for i in np.arange(len(data))]\n",
    "        \n",
    "    if bar_pos is not None:\n",
    "        assert len(bar_pos) == len(data), \"Number of bar positions must match number of dataframes\"\n",
    "\n",
    "    # Find range\n",
    "    range = get_range(data, variable, min, max)\n",
    "    (min, max) = range\n",
    "\n",
    "    # Make histograms\n",
    "    hists = [np.histogram(df[variable], bins=bins, range=range, density=density) for df in data]\n",
    "    tots = sum([hist[0] for hist in hists])\n",
    "\n",
    "    # Plot\n",
    "    fig, ax = plt.subplots(figsize=figsize) if base is None else (base, base.gca())\n",
    "\n",
    "    x = np.arange(min, max, (max - min) / bins)\n",
    "    fractions = np.nan_to_num([hist[0] / tots for hist in hists])\n",
    "    cumsum = np.cumsum(fractions, axis=0)\n",
    "\n",
    "    for i, (cum, label) in enumerate(zip(cumsum, labels)):\n",
    "        if colors is not None:\n",
    "            kwargs[\"color\"] = colors[i]\n",
    "        \n",
    "        floor: float | np.ndarray = cumsum[i - 1] if i > 0 else np.zeros(len(cum))\n",
    "        ceiling = cum\n",
    "        bpos = bar_pos[i] if bar_pos is not None else x\n",
    "        # ax.plot(x, cum, **kwargs)\n",
    "        if type == \"fill\":\n",
    "            ax.fill_between(x, floor, ceiling, label=label, **kwargs)  # type: ignore\n",
    "        elif type == \"bar\":\n",
    "            ax.bar(bpos, cum, label=label, zorder=-i, **kwargs)\n",
    "        elif type == \"barh\":\n",
    "            ax.barh(bpos, cum, label=label, zorder=-i, **kwargs)\n",
    "\n",
    "    ax.set_ylabel(ylabel)\n",
    "    ax.set_xlabel(xlabel)\n",
    "    ax.set_title(f\"Efficiency by {xlabel}\" if title is None else title)\n",
    "    \n",
    "    \n",
    "    # handles, _labels = plt.gca().get_legend_handles_labels()\n",
    "    # by_label = OrderedDict(zip(_labels, handles))\n",
    "    # plt.legend(by_label.values(), by_label.keys())\n",
    "    ax.legend()\n",
    "\n",
    "    ax.autoscale(enable=True, axis=\"both\", tight=True)\n",
    "    fig.tight_layout()\n",
    "    return fig"
   ]
  },
  {
   "cell_type": "code",
   "execution_count": 46,
   "metadata": {},
   "outputs": [],
   "source": [
    "for i, tag in enumerate(comparison_datasets):\n",
    "    match_types = [arr[i] for arr in match_types_arrs]\n",
    "    [df.insert(0, \"track_count\", 1) for df in match_types]"
   ]
  },
  {
   "cell_type": "code",
   "execution_count": null,
   "metadata": {},
   "outputs": [],
   "source": [
    "kwargs = {\n",
    "    \"height\": 1,\n",
    "}"
   ]
  },
  {
   "cell_type": "code",
   "execution_count": 66,
   "metadata": {},
   "outputs": [
    {
     "name": "stderr",
     "output_type": "stream",
     "text": [
      "/tmp/ipykernel_13178/531036425.py:43: RuntimeWarning: invalid value encountered in divide\n",
      "  fractions = np.nan_to_num([hist[0] / tots for hist in hists])\n"
     ]
    },
    {
     "data": {
      "text/plain": [
       "<matplotlib.legend.Legend at 0x7fa41964b940>"
      ]
     },
     "execution_count": 66,
     "metadata": {},
     "output_type": "execute_result"
    },
    {
     "data": {
      "image/png": "[encoded data removed]",
      "text/plain": [
       "<Figure size 1000x600 with 1 Axes>"
      ]
     },
     "metadata": {},
     "output_type": "display_data"
    }
   ],
   "source": [
    "fig = None\n",
    "yticks = []\n",
    "ylabels = []\n",
    "for i, tag in enumerate(tags[:2]):\n",
    "    match_types = [arr[i] for arr in match_types_arrs]\n",
    "    fig = fraction_histogram(\n",
    "        match_types,\n",
    "        variable=\"track_count\",\n",
    "        labels=match_types_str,\n",
    "        bins=2,\n",
    "        min=0,\n",
    "        max=1,\n",
    "        title=\"Track purity distribution\",\n",
    "        xlabel=\"Fraction\",\n",
    "        ylabel=\"\",\n",
    "        type=\"barh\",\n",
    "        bar_pos=len(match_types)*[i],\n",
    "        base=fig,\n",
    "        colors=[\"#1f77b4\", \"#ff7f0e\", \"#2ca02c\", \"#d62728\"],\n",
    "        **kwargs\n",
    "    )\n",
    "    yticks.append(i)\n",
    "    ylabels.append(tag)\n",
    "fig.gca().invert_yaxis()\n",
    "fig.gca().set_yticks(yticks, ylabels)\n",
    "handles, labels = plt.gca().get_legend_handles_labels()\n",
    "by_label = OrderedDict(zip(labels, handles))\n",
    "plt.legend(by_label.values(), by_label.keys())"
   ]
  },
  {
   "cell_type": "code",
   "execution_count": null,
   "metadata": {},
   "outputs": [],
   "source": [
    "# Find labels\n",
    "if labels is not None:\n",
    "    assert len(labels) == len(data), \"Number of labels must match number of dataframes\"\n",
    "else:\n",
    "    labels = [f\"df_{i}\" for i in np.arange(len(data))]\n",
    "\n",
    "# Find range\n",
    "range = get_range(data, variable, min, max)\n",
    "(min, max) = range\n",
    "\n",
    "# Make histograms\n",
    "hists = [np.histogram(df[variable], bins=bins, range=range, density=density) for df in data]\n",
    "tots = sum([hist[0] for hist in hists])\n",
    "\n",
    "# Plot\n",
    "x = np.arange(min, max, (max - min) / bins)\n",
    "fractions = np.nan_to_num([hist[0] / tots for hist in hists])\n",
    "cumsum = np.cumsum(fractions, axis=0)\n",
    "for i, (cum, label) in enumerate(zip(cumsum, labels)):\n",
    "    floor: float | np.ndarray = cumsum[i - 1] if i > 0 else np.zeros(len(cum))\n",
    "    ceiling = cum\n",
    "    # ax.plot(x, cum, **kwargs)\n",
    "    if type == \"fill\":\n",
    "        ax.fill_between(x, floor, ceiling, label=label, **kwargs)  # type: ignore\n",
    "    if type == \"bar\":\n",
    "        ax.bar(x, cum, label=label, zorder=-i, **kwargs)\n",
    "    if type == \"barh\":\n",
    "        ax.barh(barh_pos, cum, label=label, zorder=-i, **kwargs)\n",
    "\n",
    "ax.set_ylabel(ylabel)\n",
    "ax.set_xlabel(xlabel)\n",
    "ax.set_title(f\"Efficiency by {xlabel}\" if title is None else title)\n",
    "ax.legend()\n",
    "\n",
    "ax.legend()\n",
    "\n",
    "fig.tight_layout()"
   ]
  },
  {
   "cell_type": "code",
   "execution_count": null,
   "metadata": {},
   "outputs": [],
   "source": [
    "ylabels"
   ]
  },
  {
   "cell_type": "code",
   "execution_count": 68,
   "metadata": {},
   "outputs": [],
   "source": [
    "def horizontal_fractions(\n",
    "    data_arr: list[list[DataFrame]],\n",
    "    variable: str,\n",
    "    datalabels: list[str],\n",
    "    min: float | None = None,  # type: ignore\n",
    "    max: float | None = None,  # type: ignore\n",
    "    labels: list[str] | None = None,\n",
    "    title=\"\",\n",
    "    xlabel=\"x\",\n",
    "    ylabel=\"y\",\n",
    "    colors=None,\n",
    "    **kwargs,\n",
    "):\n",
    "    fig = None\n",
    "    yticks = []\n",
    "    ylabels = []\n",
    "    \n",
    "    for matches_arr in data_arr:\n",
    "        if datalabels is None:\n",
    "            datalabels = [\"\"] * len(data)\n",
    "        else:\n",
    "            print(datalabels, len(matches_arr))\n",
    "            assert len(datalabels) == len(matches_arr), \"Number of data labels must match number of dataframes\"\n",
    "\n",
    "    for i, tag in enumerate(datalabels):\n",
    "    # for i, data in enumerate(zip(data_arr, datalabels)):\n",
    "        match_types = [arr[i] for arr in data_arr]\n",
    "        fig = fraction_histogram(\n",
    "            match_types,\n",
    "            variable=variable,\n",
    "            labels=labels,\n",
    "            bins=1,\n",
    "            min=min,\n",
    "            max=max,\n",
    "            title=title,\n",
    "            xlabel=xlabel,\n",
    "            ylabel=ylabel,\n",
    "            type=\"barh\",\n",
    "            bar_pos=len(match_types) * [i],\n",
    "            base=fig,\n",
    "            colors=colors,\n",
    "            **kwargs,\n",
    "        )\n",
    "        yticks.append(i)\n",
    "        ylabels.append(tag)\n",
    "    fig.gca().set_yticks(yticks, ylabels)\n",
    "    fig.gca().invert_yaxis()\n",
    "    \n",
    "    # Reset legend\n",
    "    handles, labels = plt.gca().get_legend_handles_labels()\n",
    "    by_label = OrderedDict(zip(labels, handles))\n",
    "    fig.gca().legend(by_label.values(), by_label.keys())\n",
    "    return fig\n"
   ]
  },
  {
   "cell_type": "code",
   "execution_count": 64,
   "metadata": {},
   "outputs": [
    {
     "data": {
      "text/plain": [
       "(4, 4, 4, 4)"
      ]
     },
     "execution_count": 64,
     "metadata": {},
     "output_type": "execute_result"
    }
   ],
   "source": [
    "len(match_types_arrs),len(match_types_arrs[3]), len(match_types_str), len(tags)"
   ]
  },
  {
   "cell_type": "code",
   "execution_count": 70,
   "metadata": {},
   "outputs": [
    {
     "name": "stdout",
     "output_type": "stream",
     "text": [
      "['HL DNN', 'HL DNN + fit', 'Red. DNN', 'Red. DNN + fit'] 4\n",
      "['HL DNN', 'HL DNN + fit', 'Red. DNN', 'Red. DNN + fit'] 4\n",
      "['HL DNN', 'HL DNN + fit', 'Red. DNN', 'Red. DNN + fit'] 4\n",
      "['HL DNN', 'HL DNN + fit', 'Red. DNN', 'Red. DNN + fit'] 4\n"
     ]
    },
    {
     "data": {
      "image/png": "[encoded data removed]",
      "text/plain": [
       "<Figure size 1000x600 with 1 Axes>"
      ]
     },
     "metadata": {},
     "output_type": "display_data"
    }
   ],
   "source": [
    "fig = horizontal_fractions(\n",
    "    match_types_arrs,\n",
    "    datalabels=tags,\n",
    "    variable=\"track_count\",\n",
    "    labels=match_types_str,\n",
    "    min=0,\n",
    "    max=1,\n",
    "    title=\"Track purity distribution\",\n",
    "    xlabel=\"Fraction\",\n",
    "    ylabel=\"\",\n",
    "    colors=[\"#1f77b4\", \"#ff7f0e\", \"#2ca02c\", \"#d62728\"],\n",
    "    **kwargs\n",
    ")"
   ]
  },
  {
   "cell_type": "code",
   "execution_count": null,
   "metadata": {},
   "outputs": [],
   "source": []
  }
 ],
 "metadata": {
  "kernelspec": {
   "display_name": "myrootenv",
   "language": "python",
   "name": "python3"
  },
  "language_info": {
   "codemirror_mode": {
    "name": "ipython",
    "version": 3
   },
   "file_extension": ".py",
   "mimetype": "text/x-python",
   "name": "python",
   "nbconvert_exporter": "python",
   "pygments_lexer": "ipython3",
   "version": "3.10.11"
  },
  "orig_nbformat": 4
 },
 "nbformat": 4,
 "nbformat_minor": 2
}
